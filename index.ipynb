{
 "cells": [
  {
   "cell_type": "markdown",
   "metadata": {
    "toc": true
   },
   "source": [
    "<h1>Table of Contents<span class=\"tocSkip\"></span></h1>\n",
    "<div class=\"toc\"><ul class=\"toc-item\"><li><span><a href=\"#Introduction\" data-toc-modified-id=\"Introduction-1\"><span class=\"toc-item-num\">1&nbsp;&nbsp;</span>Introduction</a></span></li><li><span><a href=\"#Objectives\" data-toc-modified-id=\"Objectives-2\"><span class=\"toc-item-num\">2&nbsp;&nbsp;</span>Objectives</a></span></li><li><span><a href=\"#CRM-Schema\" data-toc-modified-id=\"CRM-Schema-3\"><span class=\"toc-item-num\">3&nbsp;&nbsp;</span>CRM Schema</a></span></li><li><span><a href=\"#Connecting-to-the-Database\" data-toc-modified-id=\"Connecting-to-the-Database-4\"><span class=\"toc-item-num\">4&nbsp;&nbsp;</span>Connecting to the Database</a></span></li><li><span><a href=\"#Display-the-names-of-all-the-employees-in-Boston.\" data-toc-modified-id=\"Display-the-names-of-all-the-employees-in-Boston.-5\"><span class=\"toc-item-num\">5&nbsp;&nbsp;</span>Display the names of all the employees in Boston.</a></span></li><li><span><a href=\"#Do-any-offices-have-no-employees?\" data-toc-modified-id=\"Do-any-offices-have-no-employees?-6\"><span class=\"toc-item-num\">6&nbsp;&nbsp;</span>Do any offices have no employees?</a></span></li><li><span><a href=\"#Write-3-Questions-of-your-own-and-answer-them\" data-toc-modified-id=\"Write-3-Questions-of-your-own-and-answer-them-7\"><span class=\"toc-item-num\">7&nbsp;&nbsp;</span>Write 3 Questions of your own and answer them</a></span></li><li><span><a href=\"#Level-Up:-Display-the-names-of-each-product-each-employee-has-sold.\" data-toc-modified-id=\"Level-Up:-Display-the-names-of-each-product-each-employee-has-sold.-8\"><span class=\"toc-item-num\">8&nbsp;&nbsp;</span>Level Up: Display the names of each product each employee has sold.</a></span></li><li><span><a href=\"#Level-Up:-Display-the-Number-of-Products-each-Employee-Has-sold\" data-toc-modified-id=\"Level-Up:-Display-the-Number-of-Products-each-Employee-Has-sold-9\"><span class=\"toc-item-num\">9&nbsp;&nbsp;</span>Level Up: Display the Number of Products each Employee Has sold</a></span></li><li><span><a href=\"#Summary\" data-toc-modified-id=\"Summary-10\"><span class=\"toc-item-num\">10&nbsp;&nbsp;</span>Summary</a></span></li></ul></div>"
   ]
  },
  {
   "cell_type": "markdown",
   "metadata": {},
   "source": [
    "# Join Statements - Lab\n",
    "\n",
    "## Introduction\n",
    "\n",
    "In this lab, you'll practice your knowledge on Join statements.\n",
    "\n",
    "## Objectives\n",
    "\n",
    "You will be able to:\n",
    "- Write queries that make use of various types of Joins\n",
    "- Join tables using foreign keys"
   ]
  },
  {
   "cell_type": "markdown",
   "metadata": {},
   "source": [
    "## CRM Schema\n",
    "\n",
    "In almost all cases, rather then just working with a single table we will typically need data from multiple tables. \n",
    "Doing this requires the use of **joins ** using shared columns from the two tables. \n",
    "\n",
    "In this lab, we'll use the same Customer Relationship Management (CRM) database we used in our lecture before!\n",
    "<img src='Database-Schema.png' width=550>"
   ]
  },
  {
   "cell_type": "markdown",
   "metadata": {},
   "source": [
    "## Connecting to the Database\n",
    "Import the necessary packages and connect to the database **data.sqlite**."
   ]
  },
  {
   "cell_type": "code",
   "execution_count": 1,
   "metadata": {},
   "outputs": [],
   "source": [
    "#Your code here\n",
    "import sqlite3\n",
    "conn = sqlite3.connect('data.sqlite')\n",
    "cur = conn.cursor()"
   ]
  },
  {
   "cell_type": "markdown",
   "metadata": {},
   "source": [
    "## Display the names of all the employees in Boston."
   ]
  },
  {
   "cell_type": "code",
   "execution_count": 10,
   "metadata": {},
   "outputs": [
    {
     "data": {
      "text/plain": [
       "[('Murphy', 'Diane'),\n",
       " ('Patterson', 'Mary'),\n",
       " ('Firrelli', 'Jeff'),\n",
       " ('Patterson', 'William'),\n",
       " ('Bondur', 'Gerard'),\n",
       " ('Bow', 'Anthony'),\n",
       " ('Jennings', 'Leslie'),\n",
       " ('Thompson', 'Leslie'),\n",
       " ('Firrelli', 'Julie'),\n",
       " ('Patterson', 'Steve'),\n",
       " ('Tseng', 'Foon Yue'),\n",
       " ('Vanauf', 'George'),\n",
       " ('Bondur', 'Loui'),\n",
       " ('Hernandez', 'Gerard'),\n",
       " ('Castillo', 'Pamela'),\n",
       " ('Bott', 'Larry'),\n",
       " ('Jones', 'Barry'),\n",
       " ('Fixter', 'Andy'),\n",
       " ('Marsh', 'Peter'),\n",
       " ('King', 'Tom'),\n",
       " ('Nishi', 'Mami'),\n",
       " ('Kato', 'Yoshimi'),\n",
       " ('Gerard', 'Martin')]"
      ]
     },
     "execution_count": 10,
     "metadata": {},
     "output_type": "execute_result"
    }
   ],
   "source": [
    "#Your code here\n",
    "cur.execute('''SELECT lastName, firstName From employees  \n",
    "            JOIN offices ON employees.officeCode = offices.officeCode;''').fetchall()"
   ]
  },
  {
   "cell_type": "markdown",
   "metadata": {},
   "source": [
    "## Do any offices have no employees?"
   ]
  },
  {
   "cell_type": "code",
   "execution_count": 14,
   "metadata": {},
   "outputs": [
    {
     "ename": "OperationalError",
     "evalue": "RIGHT and FULL OUTER JOINs are not currently supported",
     "output_type": "error",
     "traceback": [
      "\u001b[1;31m---------------------------------------------------------------------------\u001b[0m",
      "\u001b[1;31mOperationalError\u001b[0m                          Traceback (most recent call last)",
      "\u001b[1;32m<ipython-input-14-81203ab9b88f>\u001b[0m in \u001b[0;36m<module>\u001b[1;34m\u001b[0m\n\u001b[0;32m      2\u001b[0m cur.execute('''SELECT * FROM employees  \n\u001b[0;32m      3\u001b[0m             \u001b[0mRIGHT\u001b[0m \u001b[0mJOIN\u001b[0m \u001b[0moffices\u001b[0m \u001b[0mON\u001b[0m \u001b[0memployees\u001b[0m\u001b[1;33m.\u001b[0m\u001b[0mofficeCode\u001b[0m \u001b[1;33m=\u001b[0m \u001b[0moffices\u001b[0m\u001b[1;33m.\u001b[0m\u001b[0mofficeCode\u001b[0m\u001b[1;33m\u001b[0m\u001b[1;33m\u001b[0m\u001b[0m\n\u001b[1;32m----> 4\u001b[1;33m             WHERE employees.officeCode is NULL;''').fetchall()\n\u001b[0m",
      "\u001b[1;31mOperationalError\u001b[0m: RIGHT and FULL OUTER JOINs are not currently supported"
     ]
    }
   ],
   "source": [
    "#Your code here\n",
    "cur.execute('''SELECT * FROM employees  \n",
    "            RIGHT JOIN offices ON employees.officeCode = offices.officeCode\n",
    "            WHERE employees.officeCode is NULL;''').fetchall()"
   ]
  },
  {
   "cell_type": "markdown",
   "metadata": {},
   "source": [
    "## Write 3 Questions of your own and answer them"
   ]
  },
  {
   "cell_type": "code",
   "execution_count": null,
   "metadata": {},
   "outputs": [],
   "source": [
    "# Answers will vary"
   ]
  },
  {
   "cell_type": "code",
   "execution_count": null,
   "metadata": {},
   "outputs": [],
   "source": [
    "# Your code here"
   ]
  },
  {
   "cell_type": "code",
   "execution_count": null,
   "metadata": {},
   "outputs": [],
   "source": [
    "# Your code here"
   ]
  },
  {
   "cell_type": "code",
   "execution_count": null,
   "metadata": {},
   "outputs": [],
   "source": [
    "# Your code here"
   ]
  },
  {
   "cell_type": "markdown",
   "metadata": {},
   "source": [
    "## Level Up: Display the names of each product each employee has sold."
   ]
  },
  {
   "cell_type": "code",
   "execution_count": null,
   "metadata": {},
   "outputs": [],
   "source": [
    "# Your code here"
   ]
  },
  {
   "cell_type": "markdown",
   "metadata": {},
   "source": [
    "## Level Up: Display the Number of Products each Employee Has sold"
   ]
  },
  {
   "cell_type": "code",
   "execution_count": null,
   "metadata": {},
   "outputs": [],
   "source": [
    "#Your code here"
   ]
  },
  {
   "cell_type": "markdown",
   "metadata": {},
   "source": [
    "## Summary"
   ]
  },
  {
   "cell_type": "markdown",
   "metadata": {},
   "source": [
    "Congrats! You now know how to use Join statements, along with leveraging your foreign keys knowledge!"
   ]
  }
 ],
 "metadata": {
  "kernelspec": {
   "display_name": "Python 3",
   "language": "python",
   "name": "python3"
  },
  "language_info": {
   "codemirror_mode": {
    "name": "ipython",
    "version": 3
   },
   "file_extension": ".py",
   "mimetype": "text/x-python",
   "name": "python",
   "nbconvert_exporter": "python",
   "pygments_lexer": "ipython3",
   "version": "3.7.1"
  },
  "toc": {
   "base_numbering": 1,
   "nav_menu": {},
   "number_sections": true,
   "sideBar": true,
   "skip_h1_title": true,
   "title_cell": "Table of Contents",
   "title_sidebar": "Contents",
   "toc_cell": true,
   "toc_position": {},
   "toc_section_display": true,
   "toc_window_display": false
  },
  "varInspector": {
   "cols": {
    "lenName": 16,
    "lenType": 16,
    "lenVar": 40
   },
   "kernels_config": {
    "python": {
     "delete_cmd_postfix": "",
     "delete_cmd_prefix": "del ",
     "library": "var_list.py",
     "varRefreshCmd": "print(var_dic_list())"
    },
    "r": {
     "delete_cmd_postfix": ") ",
     "delete_cmd_prefix": "rm(",
     "library": "var_list.r",
     "varRefreshCmd": "cat(var_dic_list()) "
    }
   },
   "types_to_exclude": [
    "module",
    "function",
    "builtin_function_or_method",
    "instance",
    "_Feature"
   ],
   "window_display": false
  }
 },
 "nbformat": 4,
 "nbformat_minor": 2
}
